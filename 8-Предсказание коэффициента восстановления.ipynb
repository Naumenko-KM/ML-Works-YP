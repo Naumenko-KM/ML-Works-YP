{
 "cells": [
  {
   "cell_type": "markdown",
   "metadata": {},
   "source": [
    "# Описание проекта\n",
    "\n",
    "Подготовьте прототип модели машинного обучения для «Цифры». Компания разрабатывает решения для эффективной работы промышленных предприятий.\n",
    "\n",
    "Модель должна предсказать коэффициент восстановления золота из золотосодержащей руды. В вашем распоряжении данные с параметрами добычи и очистки. \n",
    "\n",
    "Модель поможет оптимизировать производство, чтобы не запускать предприятие с убыточными характеристиками.\n",
    "\n",
    "Вам нужно:\n",
    "\n",
    "1. Подготовить данные;\n",
    "2. Провести исследовательский анализ данных;\n",
    "3. Построить и обучить модель.\n",
    "\n",
    "Чтобы выполнить проект, обращайтесь к библиотекам *pandas*, *matplotlib* и *sklearn.* Вам поможет их документация."
   ]
  },
  {
   "cell_type": "code",
   "execution_count": 2,
   "metadata": {},
   "outputs": [],
   "source": [
    "import pandas as pd\n",
    "import numpy as np\n",
    "from sklearn.metrics import mean_absolute_error, make_scorer\n",
    "from sklearn.model_selection import train_test_split, GridSearchCV, cross_val_score, cross_validate\n",
    "from sklearn.linear_model import LinearRegression, SGDRegressor\n",
    "from sklearn.ensemble import AdaBoostRegressor\n",
    "from sklearn.svm import LinearSVR\n",
    "import matplotlib.pyplot as plt\n",
    "import seaborn as sns\n",
    "import warnings\n",
    "warnings.filterwarnings(\"ignore\")"
   ]
  },
  {
   "cell_type": "markdown",
   "metadata": {},
   "source": [
    "# 1. Подготовка данных"
   ]
  },
  {
   "cell_type": "code",
   "execution_count": 3,
   "metadata": {},
   "outputs": [],
   "source": [
    "gold_recovery_full = pd.read_csv('/datasets/gold_recovery_full.csv')\n",
    "gold_recovery_test = pd.read_csv('/datasets/gold_recovery_test.csv')\n",
    "gold_recovery_train = pd.read_csv('/datasets/gold_recovery_train.csv')"
   ]
  },
  {
   "cell_type": "code",
   "execution_count": 4,
   "metadata": {},
   "outputs": [
    {
     "name": "stdout",
     "output_type": "stream",
     "text": [
      "<class 'pandas.core.frame.DataFrame'>\n",
      "RangeIndex: 22716 entries, 0 to 22715\n",
      "Data columns (total 87 columns):\n",
      " #   Column                                              Non-Null Count  Dtype  \n",
      "---  ------                                              --------------  -----  \n",
      " 0   date                                                22716 non-null  object \n",
      " 1   final.output.concentrate_ag                         22627 non-null  float64\n",
      " 2   final.output.concentrate_pb                         22629 non-null  float64\n",
      " 3   final.output.concentrate_sol                        22331 non-null  float64\n",
      " 4   final.output.concentrate_au                         22630 non-null  float64\n",
      " 5   final.output.recovery                               20753 non-null  float64\n",
      " 6   final.output.tail_ag                                22633 non-null  float64\n",
      " 7   final.output.tail_pb                                22516 non-null  float64\n",
      " 8   final.output.tail_sol                               22445 non-null  float64\n",
      " 9   final.output.tail_au                                22635 non-null  float64\n",
      " 10  primary_cleaner.input.sulfate                       21107 non-null  float64\n",
      " 11  primary_cleaner.input.depressant                    21170 non-null  float64\n",
      " 12  primary_cleaner.input.feed_size                     22716 non-null  float64\n",
      " 13  primary_cleaner.input.xanthate                      21565 non-null  float64\n",
      " 14  primary_cleaner.output.concentrate_ag               22618 non-null  float64\n",
      " 15  primary_cleaner.output.concentrate_pb               22268 non-null  float64\n",
      " 16  primary_cleaner.output.concentrate_sol              21918 non-null  float64\n",
      " 17  primary_cleaner.output.concentrate_au               22618 non-null  float64\n",
      " 18  primary_cleaner.output.tail_ag                      22614 non-null  float64\n",
      " 19  primary_cleaner.output.tail_pb                      22594 non-null  float64\n",
      " 20  primary_cleaner.output.tail_sol                     22365 non-null  float64\n",
      " 21  primary_cleaner.output.tail_au                      22617 non-null  float64\n",
      " 22  primary_cleaner.state.floatbank8_a_air              22660 non-null  float64\n",
      " 23  primary_cleaner.state.floatbank8_a_level            22667 non-null  float64\n",
      " 24  primary_cleaner.state.floatbank8_b_air              22660 non-null  float64\n",
      " 25  primary_cleaner.state.floatbank8_b_level            22673 non-null  float64\n",
      " 26  primary_cleaner.state.floatbank8_c_air              22662 non-null  float64\n",
      " 27  primary_cleaner.state.floatbank8_c_level            22673 non-null  float64\n",
      " 28  primary_cleaner.state.floatbank8_d_air              22661 non-null  float64\n",
      " 29  primary_cleaner.state.floatbank8_d_level            22673 non-null  float64\n",
      " 30  rougher.calculation.sulfate_to_au_concentrate       22672 non-null  float64\n",
      " 31  rougher.calculation.floatbank10_sulfate_to_au_feed  22672 non-null  float64\n",
      " 32  rougher.calculation.floatbank11_sulfate_to_au_feed  22672 non-null  float64\n",
      " 33  rougher.calculation.au_pb_ratio                     21089 non-null  float64\n",
      " 34  rougher.input.feed_ag                               22618 non-null  float64\n",
      " 35  rougher.input.feed_pb                               22472 non-null  float64\n",
      " 36  rougher.input.feed_rate                             22163 non-null  float64\n",
      " 37  rougher.input.feed_size                             22277 non-null  float64\n",
      " 38  rougher.input.feed_sol                              22357 non-null  float64\n",
      " 39  rougher.input.feed_au                               22617 non-null  float64\n",
      " 40  rougher.input.floatbank10_sulfate                   21415 non-null  float64\n",
      " 41  rougher.input.floatbank10_xanthate                  22247 non-null  float64\n",
      " 42  rougher.input.floatbank11_sulfate                   22038 non-null  float64\n",
      " 43  rougher.input.floatbank11_xanthate                  20459 non-null  float64\n",
      " 44  rougher.output.concentrate_ag                       22618 non-null  float64\n",
      " 45  rougher.output.concentrate_pb                       22618 non-null  float64\n",
      " 46  rougher.output.concentrate_sol                      22526 non-null  float64\n",
      " 47  rougher.output.concentrate_au                       22618 non-null  float64\n",
      " 48  rougher.output.recovery                             19597 non-null  float64\n",
      " 49  rougher.output.tail_ag                              19979 non-null  float64\n",
      " 50  rougher.output.tail_pb                              22618 non-null  float64\n",
      " 51  rougher.output.tail_sol                             19980 non-null  float64\n",
      " 52  rougher.output.tail_au                              19980 non-null  float64\n",
      " 53  rougher.state.floatbank10_a_air                     22646 non-null  float64\n",
      " 54  rougher.state.floatbank10_a_level                   22647 non-null  float64\n",
      " 55  rougher.state.floatbank10_b_air                     22646 non-null  float64\n",
      " 56  rougher.state.floatbank10_b_level                   22647 non-null  float64\n",
      " 57  rougher.state.floatbank10_c_air                     22646 non-null  float64\n",
      " 58  rougher.state.floatbank10_c_level                   22654 non-null  float64\n",
      " 59  rougher.state.floatbank10_d_air                     22641 non-null  float64\n",
      " 60  rougher.state.floatbank10_d_level                   22649 non-null  float64\n",
      " 61  rougher.state.floatbank10_e_air                     22096 non-null  float64\n",
      " 62  rougher.state.floatbank10_e_level                   22649 non-null  float64\n",
      " 63  rougher.state.floatbank10_f_air                     22641 non-null  float64\n",
      " 64  rougher.state.floatbank10_f_level                   22642 non-null  float64\n",
      " 65  secondary_cleaner.output.tail_ag                    22616 non-null  float64\n",
      " 66  secondary_cleaner.output.tail_pb                    22600 non-null  float64\n",
      " 67  secondary_cleaner.output.tail_sol                   20501 non-null  float64\n",
      " 68  secondary_cleaner.output.tail_au                    22618 non-null  float64\n",
      " 69  secondary_cleaner.state.floatbank2_a_air            22333 non-null  float64\n",
      " 70  secondary_cleaner.state.floatbank2_a_level          22591 non-null  float64\n",
      " 71  secondary_cleaner.state.floatbank2_b_air            22538 non-null  float64\n",
      " 72  secondary_cleaner.state.floatbank2_b_level          22588 non-null  float64\n",
      " 73  secondary_cleaner.state.floatbank3_a_air            22585 non-null  float64\n",
      " 74  secondary_cleaner.state.floatbank3_a_level          22587 non-null  float64\n",
      " 75  secondary_cleaner.state.floatbank3_b_air            22592 non-null  float64\n",
      " 76  secondary_cleaner.state.floatbank3_b_level          22590 non-null  float64\n",
      " 77  secondary_cleaner.state.floatbank4_a_air            22571 non-null  float64\n",
      " 78  secondary_cleaner.state.floatbank4_a_level          22587 non-null  float64\n",
      " 79  secondary_cleaner.state.floatbank4_b_air            22608 non-null  float64\n",
      " 80  secondary_cleaner.state.floatbank4_b_level          22607 non-null  float64\n",
      " 81  secondary_cleaner.state.floatbank5_a_air            22615 non-null  float64\n",
      " 82  secondary_cleaner.state.floatbank5_a_level          22615 non-null  float64\n",
      " 83  secondary_cleaner.state.floatbank5_b_air            22615 non-null  float64\n",
      " 84  secondary_cleaner.state.floatbank5_b_level          22616 non-null  float64\n",
      " 85  secondary_cleaner.state.floatbank6_a_air            22597 non-null  float64\n",
      " 86  secondary_cleaner.state.floatbank6_a_level          22615 non-null  float64\n",
      "dtypes: float64(86), object(1)\n",
      "memory usage: 15.1+ MB\n"
     ]
    }
   ],
   "source": [
    "gold_recovery_full.info()"
   ]
  },
  {
   "cell_type": "markdown",
   "metadata": {},
   "source": [
    "Видим, что почти в каждом столбце есть пропуски, посмотрим, сколько данных останется после удаления пропусков."
   ]
  },
  {
   "cell_type": "code",
   "execution_count": 5,
   "metadata": {},
   "outputs": [
    {
     "data": {
      "text/plain": [
       "(16094, 5383, 11017)"
      ]
     },
     "execution_count": 5,
     "metadata": {},
     "output_type": "execute_result"
    }
   ],
   "source": [
    "for df in [gold_recovery_full, gold_recovery_test, gold_recovery_train]:\n",
    "    df.dropna(inplace=True)       \n",
    "\n",
    "gold_recovery_full.shape[0], gold_recovery_test.shape[0], gold_recovery_train.shape[0]"
   ]
  },
  {
   "cell_type": "markdown",
   "metadata": {},
   "source": [
    "Мы удалили около 30% строк, однако осталось 16 000 строк, этих данных должно хватить для обучения моделей. "
   ]
  },
  {
   "cell_type": "markdown",
   "metadata": {},
   "source": [
    "Посмотрим, какие данные отсутствуют в тестовой выборке"
   ]
  },
  {
   "cell_type": "code",
   "execution_count": 6,
   "metadata": {},
   "outputs": [
    {
     "data": {
      "text/plain": [
       "Index(['final.output.concentrate_ag', 'final.output.concentrate_pb',\n",
       "       'final.output.concentrate_sol', 'final.output.concentrate_au',\n",
       "       'final.output.recovery', 'final.output.tail_ag', 'final.output.tail_pb',\n",
       "       'final.output.tail_sol', 'final.output.tail_au',\n",
       "       'primary_cleaner.output.concentrate_ag',\n",
       "       'primary_cleaner.output.concentrate_pb',\n",
       "       'primary_cleaner.output.concentrate_sol',\n",
       "       'primary_cleaner.output.concentrate_au',\n",
       "       'primary_cleaner.output.tail_ag', 'primary_cleaner.output.tail_pb',\n",
       "       'primary_cleaner.output.tail_sol', 'primary_cleaner.output.tail_au',\n",
       "       'rougher.calculation.sulfate_to_au_concentrate',\n",
       "       'rougher.calculation.floatbank10_sulfate_to_au_feed',\n",
       "       'rougher.calculation.floatbank11_sulfate_to_au_feed',\n",
       "       'rougher.calculation.au_pb_ratio', 'rougher.output.concentrate_ag',\n",
       "       'rougher.output.concentrate_pb', 'rougher.output.concentrate_sol',\n",
       "       'rougher.output.concentrate_au', 'rougher.output.recovery',\n",
       "       'rougher.output.tail_ag', 'rougher.output.tail_pb',\n",
       "       'rougher.output.tail_sol', 'rougher.output.tail_au',\n",
       "       'secondary_cleaner.output.tail_ag', 'secondary_cleaner.output.tail_pb',\n",
       "       'secondary_cleaner.output.tail_sol',\n",
       "       'secondary_cleaner.output.tail_au'],\n",
       "      dtype='object')"
      ]
     },
     "execution_count": 6,
     "metadata": {},
     "output_type": "execute_result"
    }
   ],
   "source": [
    "gold_recovery_train.columns[~gold_recovery_train.columns.isin(gold_recovery_test.columns)]"
   ]
  },
  {
   "cell_type": "markdown",
   "metadata": {},
   "source": [
    "В тестовой выборке недоступны характеристики продукта после флотации, первой и второй очисток и финальные характеристики.\n",
    "\n",
    "Посчитаем коэффициент восстановления."
   ]
  },
  {
   "cell_type": "code",
   "execution_count": 7,
   "metadata": {},
   "outputs": [
    {
     "data": {
      "text/plain": [
       "9.460144184559453e-15"
      ]
     },
     "execution_count": 7,
     "metadata": {},
     "output_type": "execute_result"
    }
   ],
   "source": [
    "C = gold_recovery_train['rougher.output.concentrate_au']\n",
    "F = gold_recovery_train['rougher.input.feed_au']\n",
    "T = gold_recovery_train['rougher.output.tail_au']\n",
    "\n",
    "my_recovery = C * (F - T) / (F * (C - T)) * 100\n",
    "mean_absolute_error(gold_recovery_train['rougher.output.recovery'], my_recovery)"
   ]
  },
  {
   "cell_type": "markdown",
   "metadata": {},
   "source": [
    "Коэффициент восстановления посчитан правильно."
   ]
  },
  {
   "cell_type": "markdown",
   "metadata": {},
   "source": [
    "# 2. Анализ данных"
   ]
  },
  {
   "cell_type": "markdown",
   "metadata": {},
   "source": [
    "Посмотрим, как меняется концентрация металлов (Au, Ag, Pb) на различных этапах очистки."
   ]
  },
  {
   "cell_type": "code",
   "execution_count": 8,
   "metadata": {},
   "outputs": [
    {
     "data": {
      "image/png": "[encoded data removed]",
      "text/plain": [
       "<Figure size 408.5x360 with 1 Axes>"
      ]
     },
     "metadata": {
      "needs_background": "light"
     },
     "output_type": "display_data"
    }
   ],
   "source": [
    "df_temp = pd.DataFrame(((df['rougher.input.feed_ag'].mean(), \n",
    "                         df['rougher.output.concentrate_ag'].mean(),\n",
    "                         df['primary_cleaner.output.concentrate_ag'].mean(),\n",
    "                         df['final.output.concentrate_ag'].mean()), \n",
    "                        \n",
    "                        (df['rougher.input.feed_au'].mean(), \n",
    "                         df['rougher.output.concentrate_au'].mean(),\n",
    "                         df['primary_cleaner.output.concentrate_au'].mean(),\n",
    "                         df['final.output.concentrate_au'].mean()),\n",
    "                        \n",
    "                        (df['rougher.input.feed_pb'].mean(), \n",
    "                         df['rougher.output.concentrate_pb'].mean(),\n",
    "                         df['primary_cleaner.output.concentrate_pb'].mean(),\n",
    "                         df['final.output.concentrate_pb'].mean()))).T\n",
    "\n",
    "df_temp.columns = ['ag', 'au', 'pb']\n",
    "df_temp.index = ['input', 'rougher', 'primary', 'secondary/final']\n",
    "\n",
    "sns.relplot(data=df_temp, kind=\"line\")\n",
    "plt.title('metals concentration')\n",
    "plt.ylabel('concentration, %')\n",
    "plt.xlabel('stage');"
   ]
  },
  {
   "cell_type": "markdown",
   "metadata": {},
   "source": [
    "Концентрацию золота увеличивается, концентрация серебра сначала растет, потом падает, концентрация свинца растет, но слабо.\n",
    "\n",
    "Сравним распределения размеров гранул сырья на обучающей и тестовой выборках."
   ]
  },
  {
   "cell_type": "code",
   "execution_count": 9,
   "metadata": {},
   "outputs": [
    {
     "data": {
      "image/png": "[encoded data removed]",
      "text/plain": [
       "<Figure size 864x432 with 1 Axes>"
      ]
     },
     "metadata": {
      "needs_background": "light"
     },
     "output_type": "display_data"
    }
   ],
   "source": [
    "plt.figure(figsize=(12,6))\n",
    "sns.histplot(gold_recovery_train['rougher.input.feed_size'], bins=500,  color=\"orange\", label=\"train\", kde=True)\n",
    "sns.histplot(gold_recovery_test['rougher.input.feed_size'], bins=500, label=\"test\", kde=True)\n",
    "plt.xlim((0, 150))\n",
    "plt.title('feed size distribution')\n",
    "plt.xlabel('feed size')\n",
    "plt.legend() \n",
    "plt.show()"
   ]
  },
  {
   "cell_type": "markdown",
   "metadata": {},
   "source": [
    "Различия в распределениях в данной задаче несущественны.\n",
    "\n",
    "Исследуем суммарную концентрацию всех веществ на разных стадиях: в сырье, в черновом и финальном концентратах."
   ]
  },
  {
   "cell_type": "code",
   "execution_count": 10,
   "metadata": {},
   "outputs": [
    {
     "data": {
      "text/plain": [
       "<AxesSubplot:ylabel='Count'>"
      ]
     },
     "execution_count": 10,
     "metadata": {},
     "output_type": "execute_result"
    },
    {
     "data": {
      "image/png": "[encoded data removed]",
      "text/plain": [
       "<Figure size 864x432 with 1 Axes>"
      ]
     },
     "metadata": {
      "needs_background": "light"
     },
     "output_type": "display_data"
    }
   ],
   "source": [
    "df_concentration = pd.DataFrame()\n",
    "\n",
    "df_concentration['input'] = gold_recovery_full['rougher.input.feed_ag'] + \\\n",
    "                            gold_recovery_full['rougher.input.feed_au'] + \\\n",
    "                            gold_recovery_full['rougher.input.feed_pb'] \n",
    "\n",
    "df_concentration['rougher'] = gold_recovery_full['rougher.output.concentrate_ag'] + \\\n",
    "                              gold_recovery_full['rougher.output.concentrate_au'] + \\\n",
    "                              gold_recovery_full['rougher.output.concentrate_pb']\n",
    "\n",
    "df_concentration['primary'] = gold_recovery_full['primary_cleaner.output.concentrate_ag'] + \\\n",
    "                              gold_recovery_full['primary_cleaner.output.concentrate_au'] + \\\n",
    "                              gold_recovery_full['primary_cleaner.output.concentrate_pb'] \n",
    "\n",
    "df_concentration['secondary/final'] = gold_recovery_full['final.output.concentrate_ag'] + \\\n",
    "                                      gold_recovery_full['final.output.concentrate_au'] + \\\n",
    "                                      gold_recovery_full['final.output.concentrate_pb'] \n",
    "\n",
    "plt.figure(figsize=(12,6))\n",
    "sns.histplot(df_concentration, kde=True)"
   ]
  },
  {
   "cell_type": "markdown",
   "metadata": {},
   "source": [
    "Видим выбросы с значениями близкими к нулю. Удалим их."
   ]
  },
  {
   "cell_type": "code",
   "execution_count": 11,
   "metadata": {},
   "outputs": [
    {
     "name": "stdout",
     "output_type": "stream",
     "text": [
      "Количество выбросов: 479\n"
     ]
    }
   ],
   "source": [
    "inds = df_concentration[(df_concentration['input']<1) | \\\n",
    "                 (df_concentration['rougher']<1) | \\\n",
    "                 (df_concentration['primary']<1) | \\\n",
    "                 (df_concentration['secondary/final']<1)].index\n",
    "\n",
    "print('Количество выбросов:', inds.shape[0])\n",
    "\n",
    "gold_recovery_full.drop(index = inds, inplace=True)\n",
    "gold_recovery_test.drop(index = gold_recovery_test.index[gold_recovery_test.index.isin(inds)], inplace=True)\n",
    "gold_recovery_train.drop(index = gold_recovery_train.index[gold_recovery_train.index.isin(inds)], inplace=True)"
   ]
  },
  {
   "cell_type": "markdown",
   "metadata": {},
   "source": [
    "# 3. Модель"
   ]
  },
  {
   "cell_type": "markdown",
   "metadata": {},
   "source": [
    "Нужно спрогнозировать две величины:\n",
    "- эффективность обогащения чернового концентрата после флотации;\n",
    "- эффективность обогащения финального концентрата.\n",
    "\n",
    "Напишем функцию для вычисления нашей метрики - sMAPE."
   ]
  },
  {
   "cell_type": "code",
   "execution_count": 12,
   "metadata": {},
   "outputs": [],
   "source": [
    "def smape_function(true, predicted):\n",
    "    \n",
    "#     smape = abs(true - predicted) / (abs(true) + abs(predicted)) / 2 \n",
    "    smape = abs(true - predicted) / (abs(true) + abs(predicted)) * 2  # NEW\n",
    "    smape = smape.mean() * 100\n",
    "    \n",
    "    return smape\n",
    "\n",
    "smape_score = make_scorer(smape_function)"
   ]
  },
  {
   "cell_type": "markdown",
   "metadata": {},
   "source": [
    "В ходе обучения будем работать с полным датасетом и сами поделим его на тренировочную и тестовую части."
   ]
  },
  {
   "cell_type": "code",
   "execution_count": 13,
   "metadata": {},
   "outputs": [],
   "source": [
    "def models_smape(models, X, y):\n",
    "    \n",
    "    smape = []\n",
    "    \n",
    "    for model in models:\n",
    "        model.fit(X_train, y_train)\n",
    "        smape.append(cross_val_score(model, X, y, scoring=smape_score).mean())\n",
    "        \n",
    "    return smape"
   ]
  },
  {
   "cell_type": "markdown",
   "metadata": {},
   "source": [
    "Спрогнозируем эффективность обогащения чернового концентрата после флотации, для этого отберем нужные признаки."
   ]
  },
  {
   "cell_type": "code",
   "execution_count": 14,
   "metadata": {},
   "outputs": [],
   "source": [
    "feature_cols = [\n",
    "    'rougher.input.feed_ag', \n",
    "    'rougher.input.feed_pb',\n",
    "    'rougher.input.feed_rate',\n",
    "    'rougher.input.feed_size',\n",
    "    'rougher.input.feed_sol',\n",
    "    'rougher.input.feed_au',\n",
    "\n",
    "    'rougher.input.floatbank10_sulfate',\n",
    "    'rougher.input.floatbank10_xanthate',\n",
    "    'rougher.input.floatbank11_sulfate',\n",
    "    'rougher.input.floatbank11_xanthate',\n",
    "    \n",
    "    'rougher.state.floatbank10_a_air',\n",
    "    'rougher.state.floatbank10_a_level',\n",
    "    'rougher.state.floatbank10_b_air',\n",
    "    'rougher.state.floatbank10_b_level',\n",
    "    'rougher.state.floatbank10_c_air',\n",
    "    'rougher.state.floatbank10_c_level',\n",
    "    'rougher.state.floatbank10_d_air',\n",
    "    'rougher.state.floatbank10_d_level',\n",
    "    'rougher.state.floatbank10_e_air',\n",
    "    'rougher.state.floatbank10_e_level',\n",
    "    'rougher.state.floatbank10_f_air',\n",
    "    'rougher.state.floatbank10_f_level',\n",
    "]\n",
    "target_col = 'rougher.output.recovery'\n",
    "\n",
    "X = gold_recovery_full[feature_cols]\n",
    "y = gold_recovery_full[target_col]\n",
    "\n",
    "X_train, X_test, y_train, y_test = train_test_split(X, y, train_size=0.8, random_state=42)"
   ]
  },
  {
   "cell_type": "code",
   "execution_count": 15,
   "metadata": {},
   "outputs": [
    {
     "data": {
      "text/plain": [
       "[4.314670614135612, 4.573231288735653, 6.07832467869501]"
      ]
     },
     "execution_count": 15,
     "metadata": {},
     "output_type": "execute_result"
    }
   ],
   "source": [
    "models_rougher = [\n",
    "          LinearRegression(), \n",
    "          AdaBoostRegressor(random_state=42, n_estimators=10), \n",
    "          LinearSVR(random_state=42)\n",
    "         ]\n",
    "\n",
    "models_smape(models_rougher, X_train, y_train)"
   ]
  },
  {
   "cell_type": "markdown",
   "metadata": {},
   "source": [
    "Моделью для предсказания эффективности обогащения чернового концентрата после флотации выберем линейную регрессию, так как она показала лучший результат - 4,3%.\n",
    "\n",
    "Проверим модель на тестовой выборке."
   ]
  },
  {
   "cell_type": "code",
   "execution_count": 16,
   "metadata": {},
   "outputs": [
    {
     "name": "stdout",
     "output_type": "stream",
     "text": [
      "rougher sMAPE: 4.36%\n",
      "rougher mean sMAPE: 6.26%\n"
     ]
    }
   ],
   "source": [
    "smape_rougher = smape_score(models_rougher[0], X_test, y_test)\n",
    "print(f'rougher sMAPE: {smape_rougher:0.3}%')\n",
    "\n",
    "mean_data = pd.DataFrame(np.zeros(shape=(y_test.shape[0]))).replace(0, y_test.mean())\n",
    "smape_rougher_mean = smape_function(y_test.reset_index(drop=True), mean_data[0])\n",
    "print(f'rougher mean sMAPE: {smape_rougher_mean:0.3}%')"
   ]
  },
  {
   "cell_type": "markdown",
   "metadata": {},
   "source": [
    "Спрогнозируем эффективность обогащения финального концентрата. В качестве доступных характеристик примем колонки из тестового датасета."
   ]
  },
  {
   "cell_type": "code",
   "execution_count": 17,
   "metadata": {},
   "outputs": [],
   "source": [
    "feature_cols = gold_recovery_test.columns.drop(['date'])\n",
    "target_col = 'final.output.recovery'\n",
    "\n",
    "X = gold_recovery_full[feature_cols]\n",
    "y = gold_recovery_full[target_col]\n",
    "\n",
    "X_train, X_test, y_train, y_test = train_test_split(X, y, train_size=0.8, random_state=42)"
   ]
  },
  {
   "cell_type": "code",
   "execution_count": 18,
   "metadata": {},
   "outputs": [
    {
     "data": {
      "text/plain": [
       "[6.8838097463531085, 7.272858572467399, 9.487144816970675]"
      ]
     },
     "execution_count": 18,
     "metadata": {},
     "output_type": "execute_result"
    }
   ],
   "source": [
    "models_final = [\n",
    "          LinearRegression(), \n",
    "          AdaBoostRegressor(random_state=42, n_estimators=10), \n",
    "          LinearSVR(random_state=42)\n",
    "         ]\n",
    "\n",
    "models_smape(models_final, X_train, y_train)"
   ]
  },
  {
   "cell_type": "markdown",
   "metadata": {},
   "source": [
    "Моделью для предсказания эффективности обогащения финального концентрата выберем линейную регрессию, так как снова она показала лучший результат - 6,9%.\n",
    "\n",
    "Проверим модель на тестовой выборке."
   ]
  },
  {
   "cell_type": "code",
   "execution_count": 19,
   "metadata": {},
   "outputs": [
    {
     "name": "stdout",
     "output_type": "stream",
     "text": [
      "final sMAPE: 6.86%\n",
      "final mean sMAPE: 8.47%\n"
     ]
    }
   ],
   "source": [
    "smape_final = smape_score(models_final[0], X_test, y_test)\n",
    "print(f'final sMAPE: {smape_final:0.3}%')\n",
    "\n",
    "mean_data = pd.DataFrame(np.zeros(shape=(y_test.shape[0]))).replace(0, y_test.mean())\n",
    "smape_final_mean = smape_function(y_test.reset_index(drop=True), mean_data[0])\n",
    "print(f'final mean sMAPE: {smape_final_mean:0.3}%')"
   ]
  },
  {
   "cell_type": "markdown",
   "metadata": {},
   "source": [
    "Посчитаем итоговую метрику."
   ]
  },
  {
   "cell_type": "code",
   "execution_count": 20,
   "metadata": {},
   "outputs": [
    {
     "name": "stdout",
     "output_type": "stream",
     "text": [
      "total sMAPE: 6.23%\n",
      "total mean sMAPE: 7.91%\n"
     ]
    }
   ],
   "source": [
    "smape_total = 0.25*smape_rougher + 0.75*smape_final\n",
    "smape_total_mean = 0.25*smape_rougher_mean + 0.75*smape_final_mean\n",
    "print(f'total sMAPE: {smape_total:0.3}%')\n",
    "print(f'total mean sMAPE: {smape_total_mean:0.3}%')"
   ]
  },
  {
   "cell_type": "markdown",
   "metadata": {},
   "source": [
    "# Вывод"
   ]
  },
  {
   "cell_type": "markdown",
   "metadata": {},
   "source": [
    "В данной работе мы:\n",
    "- изучили и подготовили данные: удалили пропуски, проверили правильность расчетов;\n",
    "- проанализировали изменение концентрации металлов на разных этапах, изучили распределения размеров гранул сырья, обнаружили выбросы с концентрацией металлов около нуля;\n",
    "- написали функцию для вычисления своей метрики sMAPE, обучили различные модели и выбрали лучшие, посчитали итоговую метрику.\n",
    "\n",
    "Среди всех моделей в обеих задачах лучше всего себя показала линейная регрессия с качеством 4,3% и 6,8%. Итоговая метрика равна 6,2%.  "
   ]
  }
 ],
 "metadata": {
  "kernelspec": {
   "display_name": "Python 3 (ipykernel)",
   "language": "python",
   "name": "python3"
  },
  "language_info": {
   "codemirror_mode": {
    "name": "ipython",
    "version": 3
   },
   "file_extension": ".py",
   "mimetype": "text/x-python",
   "name": "python",
   "nbconvert_exporter": "python",
   "pygments_lexer": "ipython3",
   "version": "3.9.6"
  },
  "toc": {
   "base_numbering": 1,
   "nav_menu": {},
   "number_sections": true,
   "sideBar": true,
   "skip_h1_title": true,
   "title_cell": "Table of Contents",
   "title_sidebar": "Contents",
   "toc_cell": false,
   "toc_position": {},
   "toc_section_display": true,
   "toc_window_display": false
  }
 },
 "nbformat": 4,
 "nbformat_minor": 4
}
